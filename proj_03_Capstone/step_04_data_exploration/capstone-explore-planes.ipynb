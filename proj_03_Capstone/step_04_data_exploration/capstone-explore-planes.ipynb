{
 "cells": [
  {
   "cell_type": "code",
   "execution_count": 2,
   "id": "461d3e15",
   "metadata": {},
   "outputs": [],
   "source": [
    "from pyspark.sql import SparkSession\n",
    "\n",
    "from pyspark.sql import functions as f\n",
    "#from pyspark.sql.functions import  sum, avg, min, max,  mean\n",
    "from pyspark.sql.types import *\n",
    "from pyspark.sql.functions import countDistinct, avg, stddev\n",
    "from pyspark.sql.functions import col\n",
    "\n",
    "from ut_spr import ut_spr as ut1\n",
    "\n",
    "from ut_spark import ut_spark as ut2\n",
    "\n",
    "\n",
    "spark =SparkSession.\\\n",
    "        builder. \\\n",
    "        appName(\"Aggregation\"). \\\n",
    "        master(\"local[4]\").\\\n",
    "        getOrCreate()"
   ]
  },
  {
   "cell_type": "code",
   "execution_count": 19,
   "id": "d30909d6",
   "metadata": {},
   "outputs": [],
   "source": [
    "from pyspark.sql.functions import col , count\n",
    "\n",
    "class ut_clean:\n",
    "    \"\"\" a class of utitlies to do data cleanup\"\"\"\n",
    "\n",
    "    @staticmethod\n",
    "    def isnull_count(df, col_name):\n",
    "        cnt = df.filter(col(col_name).isNull()).count()\n",
    "        print('{}:{}'.format(col_name, cnt))\n",
    "        return (cnt)\n",
    "\n",
    "    @staticmethod\n",
    "    def chk_dataframe_null(df1):\n",
    "        columns = df1.columns\n",
    "        for col_name in columns:\n",
    "            ut_clean.isnull_count(df1, col_name)\n",
    "\n",
    "    @staticmethod\n",
    "    def df_dup_by_col(df, colname):\n",
    "        new_df =df.groupBy(col(colname)).agg(count(colname).alias(\"count\")).filter(col(\"count\") > 1)\n",
    "        return new_df.count()\n",
    "\n",
    "\n",
    "    @staticmethod\n",
    "    def grpby(df, col):\n",
    "        df.groupBy(col).count().show()\n",
    "\n"
   ]
  },
  {
   "cell_type": "code",
   "execution_count": 3,
   "id": "0b81d497",
   "metadata": {},
   "outputs": [],
   "source": [
    "\n",
    "def read_plane():\n",
    "\n",
    "    f_folder = 'C:\\\\demo\\\\capstone\\\\raw_data\\\\'\n",
    "    f_name ='plane-data.csv'\n",
    "    f_path= f_folder+ f_name\n",
    "\n",
    "    return ut2.load_df_csv(spark, f_path)\n",
    "\n",
    "df_plane= read_plane()"
   ]
  },
  {
   "cell_type": "code",
   "execution_count": 21,
   "id": "3466557b",
   "metadata": {
    "scrolled": false
   },
   "outputs": [
    {
     "data": {
      "text/plain": [
       "5029"
      ]
     },
     "execution_count": 21,
     "metadata": {},
     "output_type": "execute_result"
    }
   ],
   "source": [
    "df_plane.count()"
   ]
  },
  {
   "cell_type": "markdown",
   "id": "05fb81c7",
   "metadata": {},
   "source": [
    "#### Check if column 'tailnum' is unique\n",
    "\n"
   ]
  },
  {
   "cell_type": "code",
   "execution_count": 20,
   "id": "bcf7b3c9",
   "metadata": {},
   "outputs": [
    {
     "name": "stdout",
     "output_type": "stream",
     "text": [
      "Number of duplicate group with same 'tailnum' value: 0\n"
     ]
    }
   ],
   "source": [
    "cnt= ut_clean.df_dup_by_col(df_plane, 'tailnum')\n",
    "print(\"Number of duplicate group with same 'tailnum' value: {}\".format(cnt))"
   ]
  },
  {
   "cell_type": "code",
   "execution_count": null,
   "id": "e7a02a34",
   "metadata": {},
   "outputs": [],
   "source": [
    "from pyspark.sql.functions import col , count \n",
    "def df_dup_by_col(df, colname):\n",
    "    df_new =df.groupBy(col(colname)).agg(count(colname).alias(\"count\")).filter(col(\"count\") > 1)\n",
    "    return df_new.count()\n"
   ]
  },
  {
   "cell_type": "markdown",
   "id": "ced34d03",
   "metadata": {},
   "source": [
    "#### For each column, find  the number of  records that have 'null' values"
   ]
  },
  {
   "cell_type": "code",
   "execution_count": 16,
   "id": "3486cfde",
   "metadata": {},
   "outputs": [
    {
     "name": "stdout",
     "output_type": "stream",
     "text": [
      "tailnum:0\n",
      "type:549\n",
      "manufacturer:549\n",
      "issue_date:549\n",
      "model:549\n",
      "status:549\n",
      "aircraft_type:549\n",
      "engine_type:549\n",
      "year:549\n"
     ]
    }
   ],
   "source": [
    "\n",
    "ut_clean.chk_dataframe_null(df_plane)"
   ]
  },
  {
   "cell_type": "markdown",
   "id": "154d6987",
   "metadata": {},
   "source": [
    "#### Find number of distinct values for a few columns"
   ]
  },
  {
   "cell_type": "code",
   "execution_count": 17,
   "id": "23b95307",
   "metadata": {},
   "outputs": [
    {
     "name": "stdout",
     "output_type": "stream",
     "text": [
      "+-------------------+-----+\n",
      "|               type|count|\n",
      "+-------------------+-----+\n",
      "|        Corporation| 4440|\n",
      "|           Co-Owner|    5|\n",
      "|         Individual|   24|\n",
      "|        Partnership|    1|\n",
      "|Foreign Corporation|   10|\n",
      "|               null|  549|\n",
      "+-------------------+-----+\n",
      "\n",
      "+--------------------+-----+\n",
      "|        manufacturer|count|\n",
      "+--------------------+-----+\n",
      "|             EMBRAER|  588|\n",
      "|    AIRBUS INDUSTRIE|  434|\n",
      "|              BOEING| 2061|\n",
      "|             DOUGLAS|   36|\n",
      "|   MCDONNELL DOUGLAS|  253|\n",
      "|            CANADAIR|   86|\n",
      "|      BOMBARDIER INC|  547|\n",
      "|              AIRBUS|  244|\n",
      "|              CESSNA|   12|\n",
      "|         SAAB-SCANIA|   28|\n",
      "|               BEECH|    5|\n",
      "|            SIKORSKY|    3|\n",
      "|GULFSTREAM AEROSPACE|    2|\n",
      "|        AEROSPATIALE|    8|\n",
      "|               PIPER|    6|\n",
      "|          AGUSTA SPA|    1|\n",
      "|      AERO COMMANDER|    2|\n",
      "|         PAIR MIKE E|    1|\n",
      "|  AVIAT AIRCRAFT INC|    2|\n",
      "|               RAVEN|    3|\n",
      "+--------------------+-----+\n",
      "only showing top 20 rows\n",
      "\n",
      "+-----------+-----+\n",
      "|      model|count|\n",
      "+-----------+-----+\n",
      "|  EMB-145XR|  104|\n",
      "|   A320-214|   22|\n",
      "|    737-3TO|   50|\n",
      "|    747-422|   23|\n",
      "|  EMB-145LR|  219|\n",
      "|    747-451|    1|\n",
      "|    737-824|  100|\n",
      "|  EMB-135LR|   57|\n",
      "|    737-524|   56|\n",
      "|    767-332|   77|\n",
      "|    757-224|   41|\n",
      "|    737-76N|   27|\n",
      "|  EMB-145EP|   23|\n",
      "|    DC-9-31|   29|\n",
      "|    737-724|   36|\n",
      "|  EMB-135ER|   12|\n",
      "|    767-3P6|    6|\n",
      "|    737-3G7|   20|\n",
      "|CL-600-2B19|  403|\n",
      "|   A321-211|   28|\n",
      "+-----------+-----+\n",
      "only showing top 20 rows\n",
      "\n",
      "+-----------------+-----+\n",
      "|           status|count|\n",
      "+-----------------+-----+\n",
      "|            Valid| 4479|\n",
      "|Registered to Mfr|    1|\n",
      "|             null|  549|\n",
      "+-----------------+-----+\n",
      "\n",
      "+--------------------+-----+\n",
      "|       aircraft_type|count|\n",
      "+--------------------+-----+\n",
      "|Fixed Wing Multi-...| 4440|\n",
      "|Fixed Wing Single...|   29|\n",
      "|          Rotorcraft|    8|\n",
      "|             Balloon|    3|\n",
      "|                null|  549|\n",
      "+--------------------+-----+\n",
      "\n",
      "+-------------+-----+\n",
      "|  engine_type|count|\n",
      "+-------------+-----+\n",
      "|    Turbo-Fan| 2883|\n",
      "|    Turbo-Jet| 1429|\n",
      "|Reciprocating|   32|\n",
      "|   Turbo-Prop|  122|\n",
      "|  Turbo-Shaft|    7|\n",
      "|         None|    3|\n",
      "|      4 Cycle|    4|\n",
      "|         null|  549|\n",
      "+-------------+-----+\n",
      "\n"
     ]
    }
   ],
   "source": [
    "#get number of records for a null cul\n",
    "collist=[\n",
    " 'type',\n",
    " 'manufacturer',\n",
    " 'model',\n",
    " 'status',\n",
    " 'aircraft_type',\n",
    " 'engine_type']\n",
    "\n",
    "\n",
    "for cl in collist:\n",
    "    ut_clean.grpby(df_plane, cl)"
   ]
  }
 ],
 "metadata": {
  "kernelspec": {
   "display_name": "Python 3",
   "language": "python",
   "name": "python3"
  },
  "language_info": {
   "codemirror_mode": {
    "name": "ipython",
    "version": 3
   },
   "file_extension": ".py",
   "mimetype": "text/x-python",
   "name": "python",
   "nbconvert_exporter": "python",
   "pygments_lexer": "ipython3",
   "version": "3.8.8"
  }
 },
 "nbformat": 4,
 "nbformat_minor": 5
}
