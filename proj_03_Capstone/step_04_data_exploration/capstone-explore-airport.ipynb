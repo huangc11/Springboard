{
 "cells": [
  {
   "cell_type": "code",
   "execution_count": 36,
   "id": "461d3e15",
   "metadata": {},
   "outputs": [],
   "source": [
    "from pyspark.sql import SparkSession\n",
    "\n",
    "from pyspark.sql import functions as f\n",
    "#from pyspark.sql.functions import  sum, avg, min, max,  mean\n",
    "from pyspark.sql.types import *\n",
    "from pyspark.sql.functions import countDistinct, avg, stddev\n",
    "from pyspark.sql.functions import col\n",
    "\n",
    "\n",
    "from ut_spr import ut_spr as ut1\n",
    "from ut_spark import ut_spark as ut2\n",
    "#from ut_clean import ut_clean \n",
    "\n",
    "\n",
    "spark =SparkSession.\\\n",
    "        builder. \\\n",
    "        appName(\"Aggregation\"). \\\n",
    "        master(\"local[4]\").\\\n",
    "        getOrCreate()"
   ]
  },
  {
   "cell_type": "code",
   "execution_count": 37,
   "id": "3a8ad114",
   "metadata": {},
   "outputs": [],
   "source": [
    "\n",
    "from pyspark.sql.functions import col , count \n",
    "\n",
    "class ut_clean:\n",
    "    \"\"\" a class of utitlies to do data cleanup\"\"\"\n",
    "\n",
    "    @staticmethod\n",
    "    def isnull_count(df, col_name):\n",
    "        cnt = df.filter(col(col_name).isNull()).count()\n",
    "        print('{}:{}'.format(col_name, cnt))\n",
    "        return (cnt)\n",
    "\n",
    "    @staticmethod\n",
    "    def chk_dataframe_null(df1):\n",
    "        columns = df1.columns\n",
    "        for col_name in columns:\n",
    "            ut_clean.isnull_count(df1, col_name)\n",
    "\n",
    "    @staticmethod\n",
    "    def df_dup_by_col(df, colname):\n",
    "        return df.groupBy(col(colname)).agg(count(colname).alias(\"count\")).filter(col(\"count\") > 1)\n",
    "\n",
    "\n",
    "    @staticmethod\n",
    "    def grpby(df, col):\n",
    "        df.groupBy(col).count().show()\n",
    "\n",
    "      "
   ]
  },
  {
   "cell_type": "code",
   "execution_count": null,
   "id": "db332fed",
   "metadata": {},
   "outputs": [],
   "source": []
  },
  {
   "cell_type": "markdown",
   "id": "de2c0e5f",
   "metadata": {},
   "source": [
    "#### Read airport data to dataframe"
   ]
  },
  {
   "cell_type": "code",
   "execution_count": 39,
   "id": "0b81d497",
   "metadata": {},
   "outputs": [
    {
     "data": {
      "text/plain": [
       "['iata', 'airport', 'city', 'state', 'country', 'lat', 'long']"
      ]
     },
     "execution_count": 39,
     "metadata": {},
     "output_type": "execute_result"
    }
   ],
   "source": [
    "def read_airport():\n",
    "    \n",
    " f_folder = 'C:\\\\demo\\\\capstone\\\\raw_data\\\\'\n",
    " f_name ='airports.csv'\n",
    " f_path= f_folder+ f_name\n",
    "\n",
    "\n",
    " return spark.read\\\n",
    "   .options(header=\"true\")\\\n",
    "   .options(mode=\"DROPMALFORED\")\\\n",
    "   .csv(f_path)\n",
    "    \n",
    "df1=read_airport() \n",
    "df1.columns"
   ]
  },
  {
   "cell_type": "markdown",
   "id": "8ea7f591",
   "metadata": {},
   "source": [
    "#### Check if 'iata' column is unique\n"
   ]
  },
  {
   "cell_type": "code",
   "execution_count": 29,
   "id": "8cc1d868",
   "metadata": {},
   "outputs": [],
   "source": [
    "from pyspark.sql.functions import col , count \n",
    "def df_dup_by_col(df, colname):\n",
    "    df_new =df.groupBy(col(colname)).agg(count(colname).alias(\"count\")).filter(col(\"count\") > 1)\n",
    "    return df_new.count()\n"
   ]
  },
  {
   "cell_type": "code",
   "execution_count": 30,
   "id": "b9add40a",
   "metadata": {},
   "outputs": [
    {
     "name": "stdout",
     "output_type": "stream",
     "text": [
      "number of duplicate group with same 'iata' value: 0\n"
     ]
    }
   ],
   "source": [
    "#check if 'iata' column is unique\n",
    "\n",
    "cnt= df_dup_by_col(df1, 'iata')\n",
    "print(\"number of duplicate group with same 'iata' value: {}\".format(cnt))"
   ]
  },
  {
   "cell_type": "markdown",
   "id": "812dbb29",
   "metadata": {},
   "source": [
    "#### For each column, find  the number of  records that have 'null' values"
   ]
  },
  {
   "cell_type": "code",
   "execution_count": 41,
   "id": "4f7e03ea",
   "metadata": {},
   "outputs": [
    {
     "name": "stdout",
     "output_type": "stream",
     "text": [
      "iata:0\n",
      "airport:0\n",
      "city:0\n",
      "state:0\n",
      "country:0\n",
      "lat:0\n",
      "long:0\n"
     ]
    }
   ],
   "source": [
    "ut_clean.chk_dataframe_null(df1)"
   ]
  },
  {
   "cell_type": "markdown",
   "id": "d7b77a2e",
   "metadata": {},
   "source": [
    "#### Find number of distinct values for column 'state', 'country'"
   ]
  },
  {
   "cell_type": "code",
   "execution_count": 43,
   "id": "482f3eeb",
   "metadata": {},
   "outputs": [],
   "source": [
    "collist=[\n",
    " 'state', 'country']\n"
   ]
  },
  {
   "cell_type": "code",
   "execution_count": 53,
   "id": "6f344d09",
   "metadata": {},
   "outputs": [
    {
     "name": "stdout",
     "output_type": "stream",
     "text": [
      "+-----+-----+\n",
      "|state|count|\n",
      "+-----+-----+\n",
      "|   MS|   72|\n",
      "|   TX|  209|\n",
      "|   CO|   49|\n",
      "|   NY|   97|\n",
      "|   FL|  100|\n",
      "|   AL|   73|\n",
      "|   WI|   84|\n",
      "|   OH|  100|\n",
      "|   MO|   74|\n",
      "|   MN|   89|\n",
      "|   IN|   65|\n",
      "|   NV|   32|\n",
      "|   IL|   88|\n",
      "|   ND|   52|\n",
      "|   MI|   94|\n",
      "|   NE|   73|\n",
      "|   GA|   97|\n",
      "|   DC|    1|\n",
      "|   TN|   70|\n",
      "|   AK|  263|\n",
      "+-----+-----+\n",
      "only showing top 20 rows\n",
      "\n",
      "+--------------------+-----+\n",
      "|             country|count|\n",
      "+--------------------+-----+\n",
      "|                 USA| 3372|\n",
      "|            Thailand|    1|\n",
      "|               Palau|    1|\n",
      "|   N Mariana Islands|    1|\n",
      "|Federated States ...|    1|\n",
      "+--------------------+-----+\n",
      "\n"
     ]
    }
   ],
   "source": [
    "for col in collist:\n",
    "    ut_clean.grpby(df1, col)"
   ]
  }
 ],
 "metadata": {
  "kernelspec": {
   "display_name": "Python 3",
   "language": "python",
   "name": "python3"
  },
  "language_info": {
   "codemirror_mode": {
    "name": "ipython",
    "version": 3
   },
   "file_extension": ".py",
   "mimetype": "text/x-python",
   "name": "python",
   "nbconvert_exporter": "python",
   "pygments_lexer": "ipython3",
   "version": "3.8.8"
  }
 },
 "nbformat": 4,
 "nbformat_minor": 5
}
