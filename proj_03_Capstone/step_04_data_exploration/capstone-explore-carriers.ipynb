{
 "cells": [
  {
   "cell_type": "code",
   "execution_count": 2,
   "id": "461d3e15",
   "metadata": {},
   "outputs": [],
   "source": [
    "from pyspark.sql import SparkSession\n",
    "\n",
    "from pyspark.sql import functions as f\n",
    "#from pyspark.sql.functions import  sum, avg, min, max,  mean\n",
    "from pyspark.sql.types import *\n",
    "from pyspark.sql.functions import countDistinct, avg, stddev\n",
    "from pyspark.sql.functions import col\n",
    "\n",
    "from ut_spr import ut_spr as ut1\n",
    "\n",
    "from ut_spark import ut_spark as ut2\n",
    "\n",
    "\n",
    "spark =SparkSession.\\\n",
    "        builder. \\\n",
    "        appName(\"Aggregation\"). \\\n",
    "        master(\"local[4]\").\\\n",
    "        getOrCreate()"
   ]
  },
  {
   "cell_type": "code",
   "execution_count": 19,
   "id": "d30909d6",
   "metadata": {},
   "outputs": [],
   "source": [
    "from pyspark.sql.functions import col , count\n",
    "\n",
    "class ut_clean:\n",
    "    \"\"\" a class of utitlies to do data cleanup\"\"\"\n",
    "\n",
    "    @staticmethod\n",
    "    def isnull_count(df, col_name):\n",
    "        cnt = df.filter(col(col_name).isNull()).count()\n",
    "        print('{}:{}'.format(col_name, cnt))\n",
    "        return (cnt)\n",
    "\n",
    "    @staticmethod\n",
    "    def chk_dataframe_null(df1):\n",
    "        columns = df1.columns\n",
    "        for col_name in columns:\n",
    "            ut_clean.isnull_count(df1, col_name)\n",
    "\n",
    "    @staticmethod\n",
    "    def df_dup_by_col(df, colname):\n",
    "        new_df =df.groupBy(col(colname)).agg(count(colname).alias(\"count\")).filter(col(\"count\") > 1)\n",
    "        return new_df.count()\n",
    "\n",
    "\n",
    "    @staticmethod\n",
    "    def grpby(df, col):\n",
    "        df.groupBy(col).count().show()\n",
    "\n"
   ]
  },
  {
   "cell_type": "code",
   "execution_count": 31,
   "id": "0b81d497",
   "metadata": {},
   "outputs": [],
   "source": [
    "\n",
    "def read_carriers():\n",
    "\n",
    "    f_folder = 'C:\\\\demo\\\\capstone\\\\raw_data\\\\'\n",
    "    f_name ='carriers.csv'\n",
    "    f_path= f_folder+ f_name\n",
    "\n",
    "    return ut2.load_df_csv(spark, f_path)\n",
    "\n",
    "df1= read_carriers()"
   ]
  },
  {
   "cell_type": "code",
   "execution_count": 32,
   "id": "3466557b",
   "metadata": {
    "scrolled": false
   },
   "outputs": [
    {
     "data": {
      "text/plain": [
       "1491"
      ]
     },
     "execution_count": 32,
     "metadata": {},
     "output_type": "execute_result"
    }
   ],
   "source": [
    "df1.count()"
   ]
  },
  {
   "cell_type": "code",
   "execution_count": 33,
   "id": "dab662b7",
   "metadata": {},
   "outputs": [
    {
     "data": {
      "text/plain": [
       "['Code', 'Description']"
      ]
     },
     "execution_count": 33,
     "metadata": {},
     "output_type": "execute_result"
    }
   ],
   "source": [
    "df1.columns"
   ]
  },
  {
   "cell_type": "markdown",
   "id": "05fb81c7",
   "metadata": {},
   "source": [
    "#### Check if column 'tailnum' is unique\n",
    "\n"
   ]
  },
  {
   "cell_type": "code",
   "execution_count": 35,
   "id": "bcf7b3c9",
   "metadata": {},
   "outputs": [
    {
     "name": "stdout",
     "output_type": "stream",
     "text": [
      "Number of duplicate group with same 'tailnum' value: 0\n"
     ]
    }
   ],
   "source": [
    "cnt= ut_clean.df_dup_by_col(df1, 'Code')\n",
    "print(\"Number of duplicate group with same 'tailnum' value: {}\".format(cnt))"
   ]
  },
  {
   "cell_type": "markdown",
   "id": "ced34d03",
   "metadata": {},
   "source": [
    "#### For each column, find  the number of  records that have 'null' values"
   ]
  },
  {
   "cell_type": "code",
   "execution_count": 36,
   "id": "3486cfde",
   "metadata": {},
   "outputs": [
    {
     "name": "stdout",
     "output_type": "stream",
     "text": [
      "Code:0\n",
      "Description:0\n"
     ]
    }
   ],
   "source": [
    "\n",
    "ut_clean.chk_dataframe_null(df1)"
   ]
  }
 ],
 "metadata": {
  "kernelspec": {
   "display_name": "Python 3",
   "language": "python",
   "name": "python3"
  },
  "language_info": {
   "codemirror_mode": {
    "name": "ipython",
    "version": 3
   },
   "file_extension": ".py",
   "mimetype": "text/x-python",
   "name": "python",
   "nbconvert_exporter": "python",
   "pygments_lexer": "ipython3",
   "version": "3.8.8"
  }
 },
 "nbformat": 4,
 "nbformat_minor": 5
}
