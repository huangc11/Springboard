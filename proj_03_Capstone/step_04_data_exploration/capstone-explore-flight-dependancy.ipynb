{
 "cells": [
  {
   "cell_type": "code",
   "execution_count": 3,
   "id": "461d3e15",
   "metadata": {
    "collapsed": true
   },
   "outputs": [
    {
     "ename": "Py4JJavaError",
     "evalue": "An error occurred while calling None.org.apache.spark.api.java.JavaSparkContext.\n: org.apache.spark.SparkException: Could not parse Master URL: 'local4]'\r\n\tat org.apache.spark.SparkContext$.org$apache$spark$SparkContext$$createTaskScheduler(SparkContext.scala:2924)\r\n\tat org.apache.spark.SparkContext.<init>(SparkContext.scala:548)\r\n\tat org.apache.spark.api.java.JavaSparkContext.<init>(JavaSparkContext.scala:58)\r\n\tat sun.reflect.NativeConstructorAccessorImpl.newInstance0(Native Method)\r\n\tat sun.reflect.NativeConstructorAccessorImpl.newInstance(Unknown Source)\r\n\tat sun.reflect.DelegatingConstructorAccessorImpl.newInstance(Unknown Source)\r\n\tat java.lang.reflect.Constructor.newInstance(Unknown Source)\r\n\tat py4j.reflection.MethodInvoker.invoke(MethodInvoker.java:247)\r\n\tat py4j.reflection.ReflectionEngine.invoke(ReflectionEngine.java:357)\r\n\tat py4j.Gateway.invoke(Gateway.java:238)\r\n\tat py4j.commands.ConstructorCommand.invokeConstructor(ConstructorCommand.java:80)\r\n\tat py4j.commands.ConstructorCommand.execute(ConstructorCommand.java:69)\r\n\tat py4j.GatewayConnection.run(GatewayConnection.java:238)\r\n\tat java.lang.Thread.run(Unknown Source)\r\n",
     "output_type": "error",
     "traceback": [
      "\u001b[1;31m---------------------------------------------------------------------------\u001b[0m",
      "\u001b[1;31mPy4JJavaError\u001b[0m                             Traceback (most recent call last)",
      "\u001b[1;32m<ipython-input-3-c8d401c09a51>\u001b[0m in \u001b[0;36m<module>\u001b[1;34m\u001b[0m\n\u001b[0;32m     11\u001b[0m \u001b[1;32mfrom\u001b[0m \u001b[0mut_spr\u001b[0m \u001b[1;32mimport\u001b[0m \u001b[0mut_spr\u001b[0m \u001b[1;32mas\u001b[0m \u001b[0mut1\u001b[0m\u001b[1;33m\u001b[0m\u001b[1;33m\u001b[0m\u001b[0m\n\u001b[0;32m     12\u001b[0m \u001b[1;33m\u001b[0m\u001b[0m\n\u001b[1;32m---> 13\u001b[1;33m \u001b[0mspark\u001b[0m \u001b[1;33m=\u001b[0m\u001b[0mSparkSession\u001b[0m\u001b[1;33m.\u001b[0m\u001b[0;31m\\\u001b[0m\u001b[1;33m\u001b[0m\u001b[1;33m\u001b[0m\u001b[0m\n\u001b[0m\u001b[0;32m     14\u001b[0m         \u001b[0mbuilder\u001b[0m\u001b[1;33m.\u001b[0m\u001b[0;31m \u001b[0m\u001b[0;31m\\\u001b[0m\u001b[1;33m\u001b[0m\u001b[1;33m\u001b[0m\u001b[0m\n\u001b[0;32m     15\u001b[0m         \u001b[0mappName\u001b[0m\u001b[1;33m(\u001b[0m\u001b[1;34m\"Aggregation\"\u001b[0m\u001b[1;33m)\u001b[0m\u001b[1;33m.\u001b[0m\u001b[0;31m \u001b[0m\u001b[0;31m\\\u001b[0m\u001b[1;33m\u001b[0m\u001b[1;33m\u001b[0m\u001b[0m\n",
      "\u001b[1;32mc:\\demo\\spark3\\python\\pyspark\\sql\\session.py\u001b[0m in \u001b[0;36mgetOrCreate\u001b[1;34m(self)\u001b[0m\n\u001b[0;32m    181\u001b[0m                             \u001b[0msparkConf\u001b[0m\u001b[1;33m.\u001b[0m\u001b[0mset\u001b[0m\u001b[1;33m(\u001b[0m\u001b[0mkey\u001b[0m\u001b[1;33m,\u001b[0m \u001b[0mvalue\u001b[0m\u001b[1;33m)\u001b[0m\u001b[1;33m\u001b[0m\u001b[1;33m\u001b[0m\u001b[0m\n\u001b[0;32m    182\u001b[0m                         \u001b[1;31m# This SparkContext may be an existing one.\u001b[0m\u001b[1;33m\u001b[0m\u001b[1;33m\u001b[0m\u001b[1;33m\u001b[0m\u001b[0m\n\u001b[1;32m--> 183\u001b[1;33m                         \u001b[0msc\u001b[0m \u001b[1;33m=\u001b[0m \u001b[0mSparkContext\u001b[0m\u001b[1;33m.\u001b[0m\u001b[0mgetOrCreate\u001b[0m\u001b[1;33m(\u001b[0m\u001b[0msparkConf\u001b[0m\u001b[1;33m)\u001b[0m\u001b[1;33m\u001b[0m\u001b[1;33m\u001b[0m\u001b[0m\n\u001b[0m\u001b[0;32m    184\u001b[0m                     \u001b[1;31m# Do not update `SparkConf` for existing `SparkContext`, as it's shared\u001b[0m\u001b[1;33m\u001b[0m\u001b[1;33m\u001b[0m\u001b[1;33m\u001b[0m\u001b[0m\n\u001b[0;32m    185\u001b[0m                     \u001b[1;31m# by all sessions.\u001b[0m\u001b[1;33m\u001b[0m\u001b[1;33m\u001b[0m\u001b[1;33m\u001b[0m\u001b[0m\n",
      "\u001b[1;32mc:\\demo\\spark3\\python\\pyspark\\context.py\u001b[0m in \u001b[0;36mgetOrCreate\u001b[1;34m(cls, conf)\u001b[0m\n\u001b[0;32m    368\u001b[0m         \u001b[1;32mwith\u001b[0m \u001b[0mSparkContext\u001b[0m\u001b[1;33m.\u001b[0m\u001b[0m_lock\u001b[0m\u001b[1;33m:\u001b[0m\u001b[1;33m\u001b[0m\u001b[1;33m\u001b[0m\u001b[0m\n\u001b[0;32m    369\u001b[0m             \u001b[1;32mif\u001b[0m \u001b[0mSparkContext\u001b[0m\u001b[1;33m.\u001b[0m\u001b[0m_active_spark_context\u001b[0m \u001b[1;32mis\u001b[0m \u001b[1;32mNone\u001b[0m\u001b[1;33m:\u001b[0m\u001b[1;33m\u001b[0m\u001b[1;33m\u001b[0m\u001b[0m\n\u001b[1;32m--> 370\u001b[1;33m                 \u001b[0mSparkContext\u001b[0m\u001b[1;33m(\u001b[0m\u001b[0mconf\u001b[0m\u001b[1;33m=\u001b[0m\u001b[0mconf\u001b[0m \u001b[1;32mor\u001b[0m \u001b[0mSparkConf\u001b[0m\u001b[1;33m(\u001b[0m\u001b[1;33m)\u001b[0m\u001b[1;33m)\u001b[0m\u001b[1;33m\u001b[0m\u001b[1;33m\u001b[0m\u001b[0m\n\u001b[0m\u001b[0;32m    371\u001b[0m             \u001b[1;32mreturn\u001b[0m \u001b[0mSparkContext\u001b[0m\u001b[1;33m.\u001b[0m\u001b[0m_active_spark_context\u001b[0m\u001b[1;33m\u001b[0m\u001b[1;33m\u001b[0m\u001b[0m\n\u001b[0;32m    372\u001b[0m \u001b[1;33m\u001b[0m\u001b[0m\n",
      "\u001b[1;32mc:\\demo\\spark3\\python\\pyspark\\context.py\u001b[0m in \u001b[0;36m__init__\u001b[1;34m(self, master, appName, sparkHome, pyFiles, environment, batchSize, serializer, conf, gateway, jsc, profiler_cls)\u001b[0m\n\u001b[0;32m    127\u001b[0m         \u001b[0mSparkContext\u001b[0m\u001b[1;33m.\u001b[0m\u001b[0m_ensure_initialized\u001b[0m\u001b[1;33m(\u001b[0m\u001b[0mself\u001b[0m\u001b[1;33m,\u001b[0m \u001b[0mgateway\u001b[0m\u001b[1;33m=\u001b[0m\u001b[0mgateway\u001b[0m\u001b[1;33m,\u001b[0m \u001b[0mconf\u001b[0m\u001b[1;33m=\u001b[0m\u001b[0mconf\u001b[0m\u001b[1;33m)\u001b[0m\u001b[1;33m\u001b[0m\u001b[1;33m\u001b[0m\u001b[0m\n\u001b[0;32m    128\u001b[0m         \u001b[1;32mtry\u001b[0m\u001b[1;33m:\u001b[0m\u001b[1;33m\u001b[0m\u001b[1;33m\u001b[0m\u001b[0m\n\u001b[1;32m--> 129\u001b[1;33m             self._do_init(master, appName, sparkHome, pyFiles, environment, batchSize, serializer,\n\u001b[0m\u001b[0;32m    130\u001b[0m                           conf, jsc, profiler_cls)\n\u001b[0;32m    131\u001b[0m         \u001b[1;32mexcept\u001b[0m\u001b[1;33m:\u001b[0m\u001b[1;33m\u001b[0m\u001b[1;33m\u001b[0m\u001b[0m\n",
      "\u001b[1;32mc:\\demo\\spark3\\python\\pyspark\\context.py\u001b[0m in \u001b[0;36m_do_init\u001b[1;34m(self, master, appName, sparkHome, pyFiles, environment, batchSize, serializer, conf, jsc, profiler_cls)\u001b[0m\n\u001b[0;32m    190\u001b[0m \u001b[1;33m\u001b[0m\u001b[0m\n\u001b[0;32m    191\u001b[0m         \u001b[1;31m# Create the Java SparkContext through Py4J\u001b[0m\u001b[1;33m\u001b[0m\u001b[1;33m\u001b[0m\u001b[1;33m\u001b[0m\u001b[0m\n\u001b[1;32m--> 192\u001b[1;33m         \u001b[0mself\u001b[0m\u001b[1;33m.\u001b[0m\u001b[0m_jsc\u001b[0m \u001b[1;33m=\u001b[0m \u001b[0mjsc\u001b[0m \u001b[1;32mor\u001b[0m \u001b[0mself\u001b[0m\u001b[1;33m.\u001b[0m\u001b[0m_initialize_context\u001b[0m\u001b[1;33m(\u001b[0m\u001b[0mself\u001b[0m\u001b[1;33m.\u001b[0m\u001b[0m_conf\u001b[0m\u001b[1;33m.\u001b[0m\u001b[0m_jconf\u001b[0m\u001b[1;33m)\u001b[0m\u001b[1;33m\u001b[0m\u001b[1;33m\u001b[0m\u001b[0m\n\u001b[0m\u001b[0;32m    193\u001b[0m         \u001b[1;31m# Reset the SparkConf to the one actually used by the SparkContext in JVM.\u001b[0m\u001b[1;33m\u001b[0m\u001b[1;33m\u001b[0m\u001b[1;33m\u001b[0m\u001b[0m\n\u001b[0;32m    194\u001b[0m         \u001b[0mself\u001b[0m\u001b[1;33m.\u001b[0m\u001b[0m_conf\u001b[0m \u001b[1;33m=\u001b[0m \u001b[0mSparkConf\u001b[0m\u001b[1;33m(\u001b[0m\u001b[0m_jconf\u001b[0m\u001b[1;33m=\u001b[0m\u001b[0mself\u001b[0m\u001b[1;33m.\u001b[0m\u001b[0m_jsc\u001b[0m\u001b[1;33m.\u001b[0m\u001b[0msc\u001b[0m\u001b[1;33m(\u001b[0m\u001b[1;33m)\u001b[0m\u001b[1;33m.\u001b[0m\u001b[0mconf\u001b[0m\u001b[1;33m(\u001b[0m\u001b[1;33m)\u001b[0m\u001b[1;33m)\u001b[0m\u001b[1;33m\u001b[0m\u001b[1;33m\u001b[0m\u001b[0m\n",
      "\u001b[1;32mc:\\demo\\spark3\\python\\pyspark\\context.py\u001b[0m in \u001b[0;36m_initialize_context\u001b[1;34m(self, jconf)\u001b[0m\n\u001b[0;32m    307\u001b[0m         \u001b[0mInitialize\u001b[0m \u001b[0mSparkContext\u001b[0m \u001b[1;32min\u001b[0m \u001b[0mfunction\u001b[0m \u001b[0mto\u001b[0m \u001b[0mallow\u001b[0m \u001b[0msubclass\u001b[0m \u001b[0mspecific\u001b[0m \u001b[0minitialization\u001b[0m\u001b[1;33m\u001b[0m\u001b[1;33m\u001b[0m\u001b[0m\n\u001b[0;32m    308\u001b[0m         \"\"\"\n\u001b[1;32m--> 309\u001b[1;33m         \u001b[1;32mreturn\u001b[0m \u001b[0mself\u001b[0m\u001b[1;33m.\u001b[0m\u001b[0m_jvm\u001b[0m\u001b[1;33m.\u001b[0m\u001b[0mJavaSparkContext\u001b[0m\u001b[1;33m(\u001b[0m\u001b[0mjconf\u001b[0m\u001b[1;33m)\u001b[0m\u001b[1;33m\u001b[0m\u001b[1;33m\u001b[0m\u001b[0m\n\u001b[0m\u001b[0;32m    310\u001b[0m \u001b[1;33m\u001b[0m\u001b[0m\n\u001b[0;32m    311\u001b[0m     \u001b[1;33m@\u001b[0m\u001b[0mclassmethod\u001b[0m\u001b[1;33m\u001b[0m\u001b[1;33m\u001b[0m\u001b[0m\n",
      "\u001b[1;32mC:\\ProgramData\\Anaconda3\\lib\\site-packages\\py4j\\java_gateway.py\u001b[0m in \u001b[0;36m__call__\u001b[1;34m(self, *args)\u001b[0m\n\u001b[0;32m   1571\u001b[0m \u001b[1;33m\u001b[0m\u001b[0m\n\u001b[0;32m   1572\u001b[0m         \u001b[0manswer\u001b[0m \u001b[1;33m=\u001b[0m \u001b[0mself\u001b[0m\u001b[1;33m.\u001b[0m\u001b[0m_gateway_client\u001b[0m\u001b[1;33m.\u001b[0m\u001b[0msend_command\u001b[0m\u001b[1;33m(\u001b[0m\u001b[0mcommand\u001b[0m\u001b[1;33m)\u001b[0m\u001b[1;33m\u001b[0m\u001b[1;33m\u001b[0m\u001b[0m\n\u001b[1;32m-> 1573\u001b[1;33m         return_value = get_return_value(\n\u001b[0m\u001b[0;32m   1574\u001b[0m             answer, self._gateway_client, None, self._fqn)\n\u001b[0;32m   1575\u001b[0m \u001b[1;33m\u001b[0m\u001b[0m\n",
      "\u001b[1;32mC:\\ProgramData\\Anaconda3\\lib\\site-packages\\py4j\\protocol.py\u001b[0m in \u001b[0;36mget_return_value\u001b[1;34m(answer, gateway_client, target_id, name)\u001b[0m\n\u001b[0;32m    324\u001b[0m             \u001b[0mvalue\u001b[0m \u001b[1;33m=\u001b[0m \u001b[0mOUTPUT_CONVERTER\u001b[0m\u001b[1;33m[\u001b[0m\u001b[0mtype\u001b[0m\u001b[1;33m]\u001b[0m\u001b[1;33m(\u001b[0m\u001b[0manswer\u001b[0m\u001b[1;33m[\u001b[0m\u001b[1;36m2\u001b[0m\u001b[1;33m:\u001b[0m\u001b[1;33m]\u001b[0m\u001b[1;33m,\u001b[0m \u001b[0mgateway_client\u001b[0m\u001b[1;33m)\u001b[0m\u001b[1;33m\u001b[0m\u001b[1;33m\u001b[0m\u001b[0m\n\u001b[0;32m    325\u001b[0m             \u001b[1;32mif\u001b[0m \u001b[0manswer\u001b[0m\u001b[1;33m[\u001b[0m\u001b[1;36m1\u001b[0m\u001b[1;33m]\u001b[0m \u001b[1;33m==\u001b[0m \u001b[0mREFERENCE_TYPE\u001b[0m\u001b[1;33m:\u001b[0m\u001b[1;33m\u001b[0m\u001b[1;33m\u001b[0m\u001b[0m\n\u001b[1;32m--> 326\u001b[1;33m                 raise Py4JJavaError(\n\u001b[0m\u001b[0;32m    327\u001b[0m                     \u001b[1;34m\"An error occurred while calling {0}{1}{2}.\\n\"\u001b[0m\u001b[1;33m.\u001b[0m\u001b[1;33m\u001b[0m\u001b[1;33m\u001b[0m\u001b[0m\n\u001b[0;32m    328\u001b[0m                     format(target_id, \".\", name), value)\n",
      "\u001b[1;31mPy4JJavaError\u001b[0m: An error occurred while calling None.org.apache.spark.api.java.JavaSparkContext.\n: org.apache.spark.SparkException: Could not parse Master URL: 'local4]'\r\n\tat org.apache.spark.SparkContext$.org$apache$spark$SparkContext$$createTaskScheduler(SparkContext.scala:2924)\r\n\tat org.apache.spark.SparkContext.<init>(SparkContext.scala:548)\r\n\tat org.apache.spark.api.java.JavaSparkContext.<init>(JavaSparkContext.scala:58)\r\n\tat sun.reflect.NativeConstructorAccessorImpl.newInstance0(Native Method)\r\n\tat sun.reflect.NativeConstructorAccessorImpl.newInstance(Unknown Source)\r\n\tat sun.reflect.DelegatingConstructorAccessorImpl.newInstance(Unknown Source)\r\n\tat java.lang.reflect.Constructor.newInstance(Unknown Source)\r\n\tat py4j.reflection.MethodInvoker.invoke(MethodInvoker.java:247)\r\n\tat py4j.reflection.ReflectionEngine.invoke(ReflectionEngine.java:357)\r\n\tat py4j.Gateway.invoke(Gateway.java:238)\r\n\tat py4j.commands.ConstructorCommand.invokeConstructor(ConstructorCommand.java:80)\r\n\tat py4j.commands.ConstructorCommand.execute(ConstructorCommand.java:69)\r\n\tat py4j.GatewayConnection.run(GatewayConnection.java:238)\r\n\tat java.lang.Thread.run(Unknown Source)\r\n"
     ]
    }
   ],
   "source": [
    "from pyspark.sql import SparkSession\n",
    "\n",
    "from pyspark.sql import functions as f\n",
    "#from pyspark.sql.functions import  sum, avg, min, max,  mean\n",
    "from pyspark.sql.types import *\n",
    "from pyspark.sql.functions import countDistinct, avg, stddev\n",
    "from pyspark.sql.functions import col, monotonically_increasing_id\n",
    "\n",
    "\n",
    "from ut_spark import ut_spark \n",
    "from ut_spr import ut_spr as ut1\n",
    "\n",
    "spark =SparkSession.\\\n",
    "        builder. \\\n",
    "        appName(\"Aggregation\"). \\\n",
    "        master(\"local4]\").\\\n",
    "        getOrCreate()"
   ]
  },
  {
   "cell_type": "markdown",
   "id": "925abc13",
   "metadata": {},
   "source": [
    "#### Read flight,  plane, airport, carrier data from raw files to DataFrames "
   ]
  },
  {
   "cell_type": "code",
   "execution_count": 54,
   "id": "827b7724",
   "metadata": {},
   "outputs": [],
   "source": [
    "def read_flight():\n",
    "    \"\"\" Read  flight-on=time data '2008.csv.bz2' to a spark DataFrame\n",
    "        Returns: spark DataFrame\n",
    "    \"\"\"\n",
    "    ft_fields = [\n",
    "        ('Year', 'int'),\n",
    "        ('Month', 'int'),\n",
    "        ('DayofMonth', 'int'),\n",
    "        ('DayOfWeek', 'int'),\n",
    "        ('DepTime', 'int'),\n",
    "        ('CRSDepTime', 'int'),\n",
    "        ('ArrTime', 'int'),\n",
    "        ('CRSArrTime', 'int'),\n",
    "        ('UniqueCarrier', 'str'),\n",
    "        ('FlightNum', 'str'),\n",
    "        ('TailNum', 'str'),\n",
    "        ('ActualElapsedTime', 'int'),\n",
    "        ('CRSElapsedTime', 'int'),\n",
    "        ('AirTime', 'int'),\n",
    "        ('ArrDelay', 'int'),\n",
    "        ('DepDelay', 'int'),\n",
    "        ('Origin', 'str'),\n",
    "        ('Dest', 'str'),\n",
    "        ('Distance', 'int'),\n",
    "        ('TaxiIn', 'int'),\n",
    "        ('TaxiOut', 'int'),\n",
    "        ('Cancelled', 'int'),\n",
    "        ('CancellationCode', 'str'),\n",
    "        ('Diverted', 'str'),\n",
    "        ('CarrierDelay', 'int'),\n",
    "        ('WeatherDelay', 'int'),\n",
    "        ('NASDelay', 'int'),\n",
    "        ('SecurityDelay', 'int'),\n",
    "        ('LateAircraftDelay', 'int')\n",
    "    ]\n",
    "\n",
    "    ft_schema = ut_spark.list_to_schema(ft_fields)\n",
    "\n",
    "    f_folder = 'C:\\\\demo\\\\capstone\\\\raw_data\\\\'\n",
    "    f_name = '2008.csv.bz2'\n",
    "    f_path = f_folder + f_name\n",
    "\n",
    "    return spark.read \\\n",
    "        .option(\"header\", \"true\") \\\n",
    "        .schema(ft_schema) \\\n",
    "        .csv(f_path)\n",
    "\n",
    "df_flight=read_flight().withColumn('ROW_ID', monotonically_increasing_id())"
   ]
  },
  {
   "cell_type": "code",
   "execution_count": 3,
   "id": "19e69df5",
   "metadata": {},
   "outputs": [],
   "source": [
    "from ut_spark import ut_spark as ut2 \n",
    "def read_plane():\n",
    "    \"\"\" Read  plane data  to a spark DataFrame \"\"\"\n",
    "\n",
    "    f_folder = 'C:\\\\demo\\\\capstone\\\\raw_data\\\\'\n",
    "    f_name ='plane-data.csv'\n",
    "    f_path= f_folder+ f_name\n",
    "\n",
    "    return ut2.load_df_csv(spark, f_path)\n",
    "\n",
    "df_plane= read_plane().withColumn('ROW_ID', monotonically_increasing_id())"
   ]
  },
  {
   "cell_type": "code",
   "execution_count": 4,
   "id": "8b0a39f6",
   "metadata": {},
   "outputs": [],
   "source": [
    "def read_airport():\n",
    "    \"\"\" Read  airport data  to a spark DataFrame \"\"\"\n",
    "    \n",
    "    f_folder = 'C:\\\\demo\\\\capstone\\\\raw_data\\\\'\n",
    "    f_name ='airports.csv'\n",
    "    f_path = f_folder + f_name\n",
    "\n",
    "    return spark.read \\\n",
    "        .options(header=\"true\") \\\n",
    "        .option(\"inferSchema\", \"true\") \\\n",
    "        .csv(f_path)\n",
    "\n",
    "df_airport = read_airport().withColumn('ROW_ID', monotonically_increasing_id())"
   ]
  },
  {
   "cell_type": "code",
   "execution_count": 5,
   "id": "7dc25346",
   "metadata": {},
   "outputs": [],
   "source": [
    "def read_carrier():\n",
    "    \"\"\" Read  carrier data  to a spark DataFrame and add ROW_ID column to it \"\"\"\n",
    "\n",
    "    f_folder = 'C:\\\\demo\\\\capstone\\\\raw_data\\\\'\n",
    "    f_name ='carriers.csv'\n",
    "    f_path = f_folder + f_name\n",
    "\n",
    "    return spark.read \\\n",
    "        .options(header=\"true\") \\\n",
    "        .option(\"inferSchema\", \"true\") \\\n",
    "        .csv(f_path)\n",
    "\n",
    "#read carrier data and add ROW_ID to it\n",
    "df_carrier = read_carrier().withColumn('ROW_ID', monotonically_increasing_id())"
   ]
  },
  {
   "cell_type": "code",
   "execution_count": 11,
   "id": "9f77394c",
   "metadata": {},
   "outputs": [
    {
     "name": "stdout",
     "output_type": "stream",
     "text": [
      "root\n",
      " |-- iata: string (nullable = true)\n",
      " |-- airport: string (nullable = true)\n",
      " |-- city: string (nullable = true)\n",
      " |-- state: string (nullable = true)\n",
      " |-- country: string (nullable = true)\n",
      " |-- lat: double (nullable = true)\n",
      " |-- long: double (nullable = true)\n",
      " |-- ROW_ID: long (nullable = false)\n",
      "\n"
     ]
    }
   ],
   "source": [
    "df_airport.printSchema()"
   ]
  },
  {
   "cell_type": "markdown",
   "id": "f5c4dbb0",
   "metadata": {},
   "source": [
    "####  Check referential integrity between datasets\n"
   ]
  },
  {
   "cell_type": "code",
   "execution_count": 73,
   "id": "58a2a793",
   "metadata": {},
   "outputs": [],
   "source": [
    "def cnt_leftouter_null(df1, df2, join_col1, join_col2):\n",
    "   \"\"\"To get the number of reords of the child dataset, whose joining column value not matching  the  parent dataset column \n",
    "      Args:\n",
    "        df1: child dataframe\n",
    "        df2: parent dataframe\n",
    "        join_col1: joining column of child dataframe\n",
    "        join_col2: joining column prent dataframe\n",
    "\n",
    "      Returns: reords of records not matching\n",
    "   \"\"\"\n",
    "    \n",
    "   cnt = df1.join(df2, df1[join_col1] == df2[join_col2],\"leftouter\").filter(df1[join_col2].isNull()).count()\n",
    "   print(\"number of records with missing values\".format(cnt))\n",
    "   return cnt"
   ]
  },
  {
   "cell_type": "code",
   "execution_count": 47,
   "id": "063baf5c",
   "metadata": {},
   "outputs": [],
   "source": [
    "# Check 'Origin' column of df_flight\n",
    "cnt_mis_origin=df_flight.join(df_airport,df_flight.Origin ==  df_airport.iata,\"leftouter\").filter(df_airport[\"iata\"].isNull()).count()\n",
    "    "
   ]
  },
  {
   "cell_type": "code",
   "execution_count": 43,
   "id": "4e2fcb24",
   "metadata": {},
   "outputs": [],
   "source": [
    "# check 'Dest' column  of  df_flight\n",
    "cnt_mis_dest=df_flight.join(df_airport,df_flight.Dest ==  df_airport.iata,\"leftouter\").filter(df_airport[\"iata\"].isNull()).count()\n"
   ]
  },
  {
   "cell_type": "code",
   "execution_count": 36,
   "id": "22cf00e8",
   "metadata": {},
   "outputs": [],
   "source": [
    "# check 'TailNum' column  of  df_flight\n",
    "cnt_mis_tailnum=cnt_leftouter_null(df_flight, df_plane, \"TailNum\", \"tailnum\")\n"
   ]
  },
  {
   "cell_type": "code",
   "execution_count": 52,
   "id": "6e7404c4",
   "metadata": {},
   "outputs": [
    {
     "name": "stdout",
     "output_type": "stream",
     "text": [
      "cnt_mis_origin=0, cnt_mis_dest=0, cnt_mis_tailnum=42452\n"
     ]
    }
   ],
   "source": [
    "print (\"cnt_mis_origin= {}, cnt_mis_dest= {}, cnt_mis_tailnum= {}\".format(cnt_mis_origin, cnt_mis_dest, cnt_mis_tailnum))"
   ]
  }
 ],
 "metadata": {
  "kernelspec": {
   "display_name": "Python 3",
   "language": "python",
   "name": "python3"
  },
  "language_info": {
   "codemirror_mode": {
    "name": "ipython",
    "version": 3
   },
   "file_extension": ".py",
   "mimetype": "text/x-python",
   "name": "python",
   "nbconvert_exporter": "python",
   "pygments_lexer": "ipython3",
   "version": "3.8.8"
  }
 },
 "nbformat": 4,
 "nbformat_minor": 5
}
